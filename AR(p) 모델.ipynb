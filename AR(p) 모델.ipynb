{
 "cells": [
  {
   "cell_type": "code",
   "execution_count": 9,
   "metadata": {},
   "outputs": [],
   "source": [
    "demand = read.csv('Daily_Demand_Forecasting_Orders.csv', sep=';')"
   ]
  },
  {
   "cell_type": "code",
   "execution_count": 11,
   "metadata": {},
   "outputs": [
    {
     "data": {
      "text/html": [
       "<ol class=list-inline>\n",
       "\t<li>'Week.of.the.month..first.week..second..third..fourth.or.fifth.week'</li>\n",
       "\t<li>'Day.of.the.week..Monday.to.Friday.'</li>\n",
       "\t<li>'Non.urgent.order'</li>\n",
       "\t<li>'Urgent.order'</li>\n",
       "\t<li>'Order.type.A'</li>\n",
       "\t<li>'Order.type.B'</li>\n",
       "\t<li>'Order.type.C'</li>\n",
       "\t<li>'Fiscal.sector.orders'</li>\n",
       "\t<li>'Orders.from.the.traffic.controller.sector'</li>\n",
       "\t<li>'Banking.orders..1.'</li>\n",
       "\t<li>'Banking.orders..2.'</li>\n",
       "\t<li>'Banking.orders..3.'</li>\n",
       "\t<li>'Target..Total.orders.'</li>\n",
       "</ol>\n"
      ],
      "text/latex": [
       "\\begin{enumerate*}\n",
       "\\item 'Week.of.the.month..first.week..second..third..fourth.or.fifth.week'\n",
       "\\item 'Day.of.the.week..Monday.to.Friday.'\n",
       "\\item 'Non.urgent.order'\n",
       "\\item 'Urgent.order'\n",
       "\\item 'Order.type.A'\n",
       "\\item 'Order.type.B'\n",
       "\\item 'Order.type.C'\n",
       "\\item 'Fiscal.sector.orders'\n",
       "\\item 'Orders.from.the.traffic.controller.sector'\n",
       "\\item 'Banking.orders..1.'\n",
       "\\item 'Banking.orders..2.'\n",
       "\\item 'Banking.orders..3.'\n",
       "\\item 'Target..Total.orders.'\n",
       "\\end{enumerate*}\n"
      ],
      "text/markdown": [
       "1. 'Week.of.the.month..first.week..second..third..fourth.or.fifth.week'\n",
       "2. 'Day.of.the.week..Monday.to.Friday.'\n",
       "3. 'Non.urgent.order'\n",
       "4. 'Urgent.order'\n",
       "5. 'Order.type.A'\n",
       "6. 'Order.type.B'\n",
       "7. 'Order.type.C'\n",
       "8. 'Fiscal.sector.orders'\n",
       "9. 'Orders.from.the.traffic.controller.sector'\n",
       "10. 'Banking.orders..1.'\n",
       "11. 'Banking.orders..2.'\n",
       "12. 'Banking.orders..3.'\n",
       "13. 'Target..Total.orders.'\n",
       "\n",
       "\n"
      ],
      "text/plain": [
       " [1] \"Week.of.the.month..first.week..second..third..fourth.or.fifth.week\"\n",
       " [2] \"Day.of.the.week..Monday.to.Friday.\"                                \n",
       " [3] \"Non.urgent.order\"                                                  \n",
       " [4] \"Urgent.order\"                                                      \n",
       " [5] \"Order.type.A\"                                                      \n",
       " [6] \"Order.type.B\"                                                      \n",
       " [7] \"Order.type.C\"                                                      \n",
       " [8] \"Fiscal.sector.orders\"                                              \n",
       " [9] \"Orders.from.the.traffic.controller.sector\"                         \n",
       "[10] \"Banking.orders..1.\"                                                \n",
       "[11] \"Banking.orders..2.\"                                                \n",
       "[12] \"Banking.orders..3.\"                                                \n",
       "[13] \"Target..Total.orders.\"                                             "
      ]
     },
     "metadata": {},
     "output_type": "display_data"
    }
   ],
   "source": [
    "colnames(demand)"
   ]
  },
  {
   "cell_type": "code",
   "execution_count": 13,
   "metadata": {},
   "outputs": [],
   "source": [
    "fit = ar(demand[['Banking.orders..2.']], method ='mle')"
   ]
  },
  {
   "cell_type": "code",
   "execution_count": 14,
   "metadata": {},
   "outputs": [
    {
     "data": {
      "text/plain": [
       "\n",
       "Call:\n",
       "ar(x = demand[[\"Banking.orders..2.\"]], method = \"mle\")\n",
       "\n",
       "Coefficients:\n",
       "      1        2        3  \n",
       "-0.1360  -0.2014  -0.3175  \n",
       "\n",
       "Order selected 3  sigma^2 estimated as  1.414e+09"
      ]
     },
     "metadata": {},
     "output_type": "display_data"
    }
   ],
   "source": [
    "fit"
   ]
  },
  {
   "cell_type": "code",
   "execution_count": null,
   "metadata": {},
   "outputs": [],
   "source": []
  }
 ],
 "metadata": {
  "kernelspec": {
   "display_name": "R",
   "language": "R",
   "name": "ir"
  },
  "language_info": {
   "codemirror_mode": "r",
   "file_extension": ".r",
   "mimetype": "text/x-r-source",
   "name": "R",
   "pygments_lexer": "r",
   "version": "3.6.1"
  }
 },
 "nbformat": 4,
 "nbformat_minor": 4
}
