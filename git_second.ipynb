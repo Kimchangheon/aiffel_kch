{
 "cells": [
  {
   "cell_type": "code",
   "execution_count": 1,
   "metadata": {},
   "outputs": [],
   "source": [
    "!git add -A"
   ]
  },
  {
   "cell_type": "code",
   "execution_count": 2,
   "metadata": {},
   "outputs": [
    {
     "name": "stdout",
     "output_type": "stream",
     "text": [
      "[master 1158429] 3th commit\r\n",
      " 5 files changed, 223 insertions(+), 1 deletion(-)\r\n",
      " rename .ipynb_checkpoints/Untitled-checkpoint.ipynb => \".ipynb_checkpoints/AR(p) \\353\\252\\250\\353\\215\\270-checkpoint.ipynb\" (100%)\r\n",
      " create mode 100644 .ipynb_checkpoints/cats_vs_dogs_tensorflow_dataset-checkpoint.ipynb\r\n",
      " create mode 100644 \"AR(p) \\353\\252\\250\\353\\215\\270.ipynb\"\r\n",
      " create mode 100644 Daily_Demand_Forecasting_Orders.csv\r\n",
      " rename Untitled.ipynb => cats_vs_dogs_tensorflow_dataset.ipynb (99%)\r\n"
     ]
    }
   ],
   "source": [
    "!git commit -m \"3th commit\""
   ]
  },
  {
   "cell_type": "code",
   "execution_count": 8,
   "metadata": {},
   "outputs": [],
   "source": [
    "nickname =\"aiffel_kch\""
   ]
  },
  {
   "cell_type": "code",
   "execution_count": 4,
   "metadata": {},
   "outputs": [],
   "source": [
    "path = \"https://github.com/Kimchangheon/aiffel_kch.git\""
   ]
  },
  {
   "cell_type": "code",
   "execution_count": 10,
   "metadata": {},
   "outputs": [],
   "source": [
    "!git config credential.helper store"
   ]
  },
  {
   "cell_type": "code",
   "execution_count": 11,
   "metadata": {},
   "outputs": [
    {
     "name": "stdout",
     "output_type": "stream",
     "text": [
      "fatal: 'aiffel_kch' does not appear to be a git repository\r\n",
      "fatal: 리모트 저장소에서 읽을 수 없습니다\r\n",
      "\r\n",
      "올바른 접근 권한이 있는지, 그리고 저장소가 있는지\r\n",
      "확인하십시오.\r\n"
     ]
    }
   ],
   "source": [
    "!git push $nickname master"
   ]
  },
  {
   "cell_type": "code",
   "execution_count": 7,
   "metadata": {},
   "outputs": [
    {
     "name": "stdout",
     "output_type": "stream",
     "text": [
      "fatal: 'aiffel' does not appear to be a git repository\r\n",
      "fatal: 리모트 저장소에서 읽을 수 없습니다\r\n",
      "\r\n",
      "올바른 접근 권한이 있는지, 그리고 저장소가 있는지\r\n",
      "확인하십시오.\r\n"
     ]
    }
   ],
   "source": [
    "!git push aiffel master"
   ]
  },
  {
   "cell_type": "code",
   "execution_count": null,
   "metadata": {},
   "outputs": [],
   "source": [
    "g"
   ]
  }
 ],
 "metadata": {
  "kernelspec": {
   "display_name": "Python 3",
   "language": "python",
   "name": "python3"
  },
  "language_info": {
   "codemirror_mode": {
    "name": "ipython",
    "version": 3
   },
   "file_extension": ".py",
   "mimetype": "text/x-python",
   "name": "python",
   "nbconvert_exporter": "python",
   "pygments_lexer": "ipython3",
   "version": "3.7.6"
  }
 },
 "nbformat": 4,
 "nbformat_minor": 4
}
