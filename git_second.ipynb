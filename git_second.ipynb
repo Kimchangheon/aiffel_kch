{
 "cells": [
  {
   "cell_type": "code",
   "execution_count": 3,
   "metadata": {},
   "outputs": [],
   "source": [
    "!git add -A"
   ]
  },
  {
   "cell_type": "code",
   "execution_count": 6,
   "metadata": {},
   "outputs": [
    {
     "name": "stdout",
     "output_type": "stream",
     "text": [
      "[master fb79eb6] 4th commit\r\n",
      " 13 files changed, 721 insertions(+), 2 deletions(-)\r\n",
      " create mode 100644 .ipynb_checkpoints/Untitled-checkpoint.ipynb\r\n",
      " create mode 100644 .ipynb_checkpoints/csv tutorial-checkpoint.ipynb\r\n",
      " create mode 100644 .ipynb_checkpoints/directory module and packages-checkpoint.ipynb\r\n",
      " create mode 100644 .ipynb_checkpoints/git_first-checkpoint.ipynb\r\n",
      " create mode 100644 \"F-13. \\354\\240\\225\\352\\267\\234 \\355\\221\\234\\355\\230\\204\\354\\213\\235.ipynb\"\r\n",
      " create mode 100644 Untitled.ipynb\r\n",
      " create mode 100644 csv tutorial.ipynb\r\n",
      " create mode 100644 directory module and packages.ipynb\r\n",
      " create mode 100644 git_first.ipynb\r\n",
      " create mode 100644 pandas.csv\r\n"
     ]
    }
   ],
   "source": [
    "!git commit -m \"4th commit\""
   ]
  },
  {
   "cell_type": "code",
   "execution_count": 7,
   "metadata": {},
   "outputs": [],
   "source": [
    "nickname =\"f13\""
   ]
  },
  {
   "cell_type": "code",
   "execution_count": 8,
   "metadata": {},
   "outputs": [],
   "source": [
    "path = \"https://github.com/Kimchangheon/regex_python.git\""
   ]
  },
  {
   "cell_type": "code",
   "execution_count": 11,
   "metadata": {},
   "outputs": [
    {
     "name": "stdout",
     "output_type": "stream",
     "text": [
      "오브젝트 개수 세는 중: 11, 완료.\n",
      "Delta compression using up to 16 threads.\n",
      "오브젝트 압축하는 중: 100% (10/10), 완료.\n",
      "오브젝트 쓰는 중: 100% (11/11), 936.28 KiB | 18.00 MiB/s, 완료.\n",
      "Total 11 (delta 1), reused 0 (delta 0)\n",
      "remote: Resolving deltas: 100% (1/1), done.\u001b[K\n",
      "To https://github.com/Kimchangheon/regex_python.git\n",
      "   f756932..fb79eb6  master -> master\n"
     ]
    }
   ],
   "source": [
    "!git push $nickname master"
   ]
  },
  {
   "cell_type": "code",
   "execution_count": null,
   "metadata": {},
   "outputs": [],
   "source": []
  }
 ],
 "metadata": {
  "kernelspec": {
   "display_name": "Python 3",
   "language": "python",
   "name": "python3"
  },
  "language_info": {
   "codemirror_mode": {
    "name": "ipython",
    "version": 3
   },
   "file_extension": ".py",
   "mimetype": "text/x-python",
   "name": "python",
   "nbconvert_exporter": "python",
   "pygments_lexer": "ipython3",
   "version": "3.8.5"
  }
 },
 "nbformat": 4,
 "nbformat_minor": 4
}
