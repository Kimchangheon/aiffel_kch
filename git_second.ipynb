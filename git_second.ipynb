{
 "cells": [
  {
   "cell_type": "code",
   "execution_count": 1,
   "metadata": {},
   "outputs": [],
   "source": [
    "!git add -A"
   ]
  },
  {
   "cell_type": "code",
   "execution_count": 2,
   "metadata": {},
   "outputs": [
    {
     "name": "stdout",
     "output_type": "stream",
     "text": [
      "[master 25b42ad] 7.23 commit2\r\n",
      " 2 files changed, 78 insertions(+), 19 deletions(-)\r\n",
      " create mode 100644 etc/create_vm_azure\r\n"
     ]
    }
   ],
   "source": [
    "!git commit -m \"7.23 commit2\""
   ]
  },
  {
   "cell_type": "code",
   "execution_count": 3,
   "metadata": {},
   "outputs": [],
   "source": [
    "nickname =\"aiffel\""
   ]
  },
  {
   "cell_type": "code",
   "execution_count": 4,
   "metadata": {},
   "outputs": [],
   "source": [
    "path = \"https://github.com/Kimchangheon/aiffel_kch.git\""
   ]
  },
  {
   "cell_type": "code",
   "execution_count": 6,
   "metadata": {},
   "outputs": [],
   "source": [
    "# !git config credential.helper store"
   ]
  },
  {
   "cell_type": "code",
   "execution_count": 5,
   "metadata": {},
   "outputs": [
    {
     "name": "stdout",
     "output_type": "stream",
     "text": [
      "오브젝트 나열하는 중: 7, 완료.\n",
      "오브젝트 개수 세는 중: 100% (7/7), 완료.\n",
      "Delta compression using up to 8 threads\n",
      "오브젝트 압축하는 중: 100% (4/4), 완료.\n",
      "오브젝트 쓰는 중: 100% (5/5), 3.21 KiB | 3.21 MiB/s, 완료.\n",
      "Total 5 (delta 1), reused 0 (delta 0)\n",
      "remote: Resolving deltas: 100% (1/1), completed with 1 local object.\u001b[K\n",
      "To https://github.com/Kimchangheon/aiffel_kch.git\n",
      "   7e36b1f..25b42ad  master -> master\n"
     ]
    }
   ],
   "source": [
    "!git push $nickname master"
   ]
  },
  {
   "cell_type": "code",
   "execution_count": 8,
   "metadata": {},
   "outputs": [
    {
     "name": "stdout",
     "output_type": "stream",
     "text": [
      "오브젝트 나열하는 중: 40, 완료.\n",
      "오브젝트 개수 세는 중: 100% (40/40), 완료.\n",
      "Delta compression using up to 8 threads\n",
      "오브젝트 압축하는 중: 100% (37/37), 완료.\n",
      "오브젝트 쓰는 중: 100% (37/37), 15.79 MiB | 1.28 MiB/s, 완료.\n",
      "Total 37 (delta 6), reused 0 (delta 0)\n",
      "remote: Resolving deltas: 100% (6/6), completed with 3 local objects.\u001b[K\n",
      "To https://github.com/Kimchangheon/aiffel_kch.git\n",
      "   1158429..7e36b1f  master -> master\n"
     ]
    }
   ],
   "source": [
    "!git push aiffel master"
   ]
  },
  {
   "cell_type": "code",
   "execution_count": 6,
   "metadata": {},
   "outputs": [
    {
     "name": "stdout",
     "output_type": "stream",
     "text": [
      "[master 82163a4] 7.23 commit3\n",
      " 3 files changed, 141 insertions(+), 167 deletions(-)\n",
      " rewrite git_second.ipynb (75%)\n",
      " create mode 100644 \"k-digital-credit/\\353\\224\\260\\353\\235\\274\\355\\225\\230\\354\\236\\220 \\353\\224\\245\\353\\237\\254\\353\\213\\235  17. \\355\\214\\250\\354\\205\\230 \\353\\224\\224\\354\\236\\220\\354\\235\\264\\353\\204\\210 AI \\353\\247\\214\\353\\223\\244\\352\\270\\260 (2) \\353\\252\\250\\353\\215\\270 \\355\\225\\231\\354\\212\\265.ipynb\"\n",
      " create mode 100644 \"k-digital-credit/\\353\\224\\260\\353\\235\\274\\355\\225\\230\\354\\236\\220 \\353\\224\\245\\353\\237\\254\\353\\213\\235  19. \\353\\202\\234 \\354\\212\\244\\354\\274\\200\\354\\271\\230\\353\\245\\274 \\355\\225\\240 \\355\\205\\214\\353\\213\\210 \\353\\204\\210\\353\\212\\224 \\354\\261\\204\\354\\203\\211\\354\\235\\204 \\355\\225\\230\\352\\261\\260\\353\\235\\274 (1).ipynb\"\n",
      "오브젝트 나열하는 중: 9, 완료.\n",
      "오브젝트 개수 세는 중: 100% (9/9), 완료.\n",
      "Delta compression using up to 8 threads\n",
      "오브젝트 압축하는 중: 100% (6/6), 완료.\n",
      "오브젝트 쓰는 중: 100% (6/6), 13.95 KiB | 6.97 MiB/s, 완료.\n",
      "Total 6 (delta 3), reused 0 (delta 0)\n",
      "remote: Resolving deltas: 100% (3/3), completed with 3 local objects.\u001b[K\n",
      "To https://github.com/Kimchangheon/aiffel_kch.git\n",
      "   25b42ad..82163a4  master -> master\n"
     ]
    }
   ],
   "source": [
    "!git add -A\n",
    "!git commit -m \"7.23 commit3\"\n",
    "!git push aiffel master"
   ]
  },
  {
   "cell_type": "code",
   "execution_count": null,
   "metadata": {},
   "outputs": [],
   "source": []
  }
 ],
 "metadata": {
  "kernelspec": {
   "display_name": "Python 3",
   "language": "python",
   "name": "python3"
  },
  "language_info": {
   "codemirror_mode": {
    "name": "ipython",
    "version": 3
   },
   "file_extension": ".py",
   "mimetype": "text/x-python",
   "name": "python",
   "nbconvert_exporter": "python",
   "pygments_lexer": "ipython3",
   "version": "3.7.6"
  }
 },
 "nbformat": 4,
 "nbformat_minor": 4
}
