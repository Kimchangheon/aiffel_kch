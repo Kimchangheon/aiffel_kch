{
 "cells": [
  {
   "cell_type": "code",
   "execution_count": 1,
   "metadata": {},
   "outputs": [],
   "source": [
    "!git add -A"
   ]
  },
  {
   "cell_type": "code",
   "execution_count": 2,
   "metadata": {},
   "outputs": [
    {
     "name": "stdout",
     "output_type": "stream",
     "text": [
      "[master 45a3226] 2th commit\r\n",
      " 4 files changed, 278 insertions(+), 22 deletions(-)\r\n",
      " create mode 100644 .ipynb_checkpoints/Untitled-checkpoint.ipynb\r\n",
      " create mode 100644 \"COMPUTER-VISION_ON 6. \\352\\261\\260\\354\\232\\270\\354\\225\\204 \\352\\261\\260\\354\\232\\270\\354\\225\\204, \\353\\202\\230\\353\\212\\224 \\353\\251\\215\\353\\251\\215\\354\\235\\264 \\354\\203\\201\\354\\235\\264\\353\\213\\210, \\353\\203\\245\\354\\235\\264 \\354\\203\\201\\354\\235\\264\\353\\213\\210_ (3) \\354\\240\\204\\354\\235\\264 \\355\\225\\231\\354\\212\\265 \\353\\252\\250\\353\\215\\270 \\355\\225\\231\\354\\212\\265.ipynb\"\r\n",
      " create mode 100644 Untitled.ipynb\r\n"
     ]
    }
   ],
   "source": [
    "!git commit -m \"2th commit\""
   ]
  },
  {
   "cell_type": "code",
   "execution_count": 3,
   "metadata": {},
   "outputs": [],
   "source": [
    "nickname =\"aiffel\""
   ]
  },
  {
   "cell_type": "code",
   "execution_count": 4,
   "metadata": {},
   "outputs": [],
   "source": [
    "path = \"https://github.com/Kimchangheon/aiffel_kch.git\""
   ]
  },
  {
   "cell_type": "code",
   "execution_count": null,
   "metadata": {},
   "outputs": [],
   "source": []
  },
  {
   "cell_type": "code",
   "execution_count": null,
   "metadata": {},
   "outputs": [
    {
     "name": "stdout",
     "output_type": "stream",
     "text": [
      "Username for 'https://github.com': "
     ]
    }
   ],
   "source": [
    "!git push $nickname master"
   ]
  },
  {
   "cell_type": "code",
   "execution_count": null,
   "metadata": {},
   "outputs": [],
   "source": [
    "!git push aiffel master"
   ]
  }
 ],
 "metadata": {
  "kernelspec": {
   "display_name": "Python 3",
   "language": "python",
   "name": "python3"
  },
  "language_info": {
   "codemirror_mode": {
    "name": "ipython",
    "version": 3
   },
   "file_extension": ".py",
   "mimetype": "text/x-python",
   "name": "python",
   "nbconvert_exporter": "python",
   "pygments_lexer": "ipython3",
   "version": "3.7.9"
  }
 },
 "nbformat": 4,
 "nbformat_minor": 4
}
